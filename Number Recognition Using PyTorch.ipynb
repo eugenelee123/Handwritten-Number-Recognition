{
 "cells": [
  {
   "cell_type": "code",
   "execution_count": 2,
   "metadata": {},
   "outputs": [],
   "source": [
    "import torch\n",
    "import torchvision\n",
    "from torchvision import transforms, datasets\n",
    "\n",
    "train = datasets.MNIST(\"\",train = True, download = True, transform = transforms.Compose([transforms.ToTensor()]))\n",
    "\n",
    "test = datasets.MNIST(\"\",train = False, download = True, transform = transforms.Compose([transforms.ToTensor()]))\n",
    "\n",
    "trainset = torch.utils.data.DataLoader(train, batch_size = 10, shuffle = True)\n",
    "testset = torch.utils.data.DataLoader(test,batch_size = 10, shuffle = False)"
   ]
  },
  {
   "cell_type": "code",
   "execution_count": 3,
   "metadata": {},
   "outputs": [],
   "source": [
    "# Object oriented programming model for PyTorch. These libaries are sort of interchangeable, but most code ends up\n",
    "# using both\n",
    "import torch.nn as nn\n",
    "# Functions\n",
    "import torch.nn.functional as F"
   ]
  },
  {
   "cell_type": "code",
   "execution_count": 4,
   "metadata": {},
   "outputs": [
    {
     "name": "stdout",
     "output_type": "stream",
     "text": [
      "Net(\n",
      "  (fc1): Linear(in_features=784, out_features=64, bias=True)\n",
      "  (fc2): Linear(in_features=64, out_features=64, bias=True)\n",
      "  (fc3): Linear(in_features=64, out_features=64, bias=True)\n",
      "  (fc4): Linear(in_features=64, out_features=10, bias=True)\n",
      ")\n"
     ]
    }
   ],
   "source": [
    "class Net(nn.Module):\n",
    "    def __init__(self):\n",
    "#       Runs initialization for nn.Module as well as everything in the local init.\n",
    "        super().__init__()\n",
    "    \n",
    "        # First fully connected layer. Takes image as input (28 X 28) flattened. \n",
    "        # Output is 3 layers of 64 neurons for the hidden layers\n",
    "        # nn.Linear describes a fully connected neural network     \n",
    "        \n",
    "        self.fc1 = nn.Linear(28*28,64)\n",
    "        # fc2 needs to take in 64 as input because fc1 output 64.\n",
    "        self.fc2 = nn.Linear(64,64)\n",
    "        self.fc3 = nn.Linear(64,64)\n",
    "        # 10 corresponds to the amount of classes we have in image recognition. We only have 10 output neurons\n",
    "        self.fc4 = nn.Linear(64,10)\n",
    "        \n",
    "    # How data will flow through network. F.relu is the activation function. I think sigmoid activation?\n",
    "    def forward(self,x):\n",
    "        x = F.relu(self.fc1(x))\n",
    "        x = F.relu(self.fc2(x))\n",
    "        x = F.relu(self.fc3(x))\n",
    "        # Don't need activation on output of fc4\n",
    "        x = self.fc4(x)\n",
    "        \n",
    "        return F.softmax(x,dim=1)\n",
    "        \n",
    "    \n",
    "        \n",
    "net = Net()\n",
    "print(net)\n",
    "    "
   ]
  },
  {
   "cell_type": "code",
   "execution_count": 5,
   "metadata": {},
   "outputs": [],
   "source": [
    "#Set X to some random MNIST image \n",
    "X = torch.rand((28,28))\n",
    "# Resize X to pass into net. The -1 specifies that the image has an unknown shape\n",
    "X = X.view(-1,28*28)"
   ]
  },
  {
   "cell_type": "code",
   "execution_count": 6,
   "metadata": {},
   "outputs": [],
   "source": [
    "output = net(X)"
   ]
  },
  {
   "cell_type": "code",
   "execution_count": 7,
   "metadata": {},
   "outputs": [
    {
     "data": {
      "text/plain": [
       "tensor([[0.1056, 0.0909, 0.1024, 0.0904, 0.1054, 0.1064, 0.1045, 0.0937, 0.0876,\n",
       "         0.1131]], grad_fn=<SoftmaxBackward>)"
      ]
     },
     "execution_count": 7,
     "metadata": {},
     "output_type": "execute_result"
    }
   ],
   "source": [
    "output"
   ]
  },
  {
   "cell_type": "code",
   "execution_count": 10,
   "metadata": {},
   "outputs": [
    {
     "name": "stdout",
     "output_type": "stream",
     "text": [
      "tensor(-0.9748, grad_fn=<NllLossBackward>)\n",
      "tensor(-1., grad_fn=<NllLossBackward>)\n",
      "tensor(-0.9987, grad_fn=<NllLossBackward>)\n",
      "tensor(-1., grad_fn=<NllLossBackward>)\n",
      "tensor(-0.8000, grad_fn=<NllLossBackward>)\n"
     ]
    }
   ],
   "source": [
    "# Training the model to predict handwritten numbers\n",
    "# Loss - How wrong is the model. Goal is to reduce loss\n",
    "# Optimizer - Adjust weights between neurons to lower the loss over time (Based off of learning rate). Calculating\n",
    "# gradients and doing gradient descent\n",
    "\n",
    "import torch.optim as optim\n",
    "optimizer = optim.Adam(net.parameters(), lr = 0.001)\n",
    "\n",
    "# Epochs are how many passes we are doing through our data set.\n",
    "EPOCHS = 5\n",
    "\n",
    "for epoch in range(EPOCHS):\n",
    "    # Data is a batch of featuresets and labels. It contains the pixel values and the associated labels\n",
    "    for data in trainset:\n",
    "        X,y = data\n",
    "        net.zero_grad()\n",
    "        output = net(X.view(-1,28*28))\n",
    "        # Calculate how wrong we were\n",
    "        loss = F.nll_loss(output,y)\n",
    "        # Perform backpropagation to see how well the network is doing on a specific example. Calculates the         \n",
    "        # cost for unit j in layer l        \n",
    "        loss.backward()\n",
    "        # Adjust the weights         \n",
    "        optimizer.step()\n",
    "    print(loss)"
   ]
  },
  {
   "cell_type": "code",
   "execution_count": 21,
   "metadata": {},
   "outputs": [
    {
     "name": "stdout",
     "output_type": "stream",
     "text": [
      "Training accuracy:  0.952\n",
      "Test accuracy:  0.948\n"
     ]
    }
   ],
   "source": [
    "training_correct = 0\n",
    "training_total = 0\n",
    "test_correct = 0\n",
    "test_total = 0\n",
    "\n",
    "with torch.no_grad():\n",
    "    # Checks predictions to see if we were correct     \n",
    "    \n",
    "#     for data in trainset:\n",
    "#         X,y = data\n",
    "#         output = net(X.view(-1,28*28))\n",
    "#         for idx, i in enumerate(output):\n",
    "#             if torch.argmax(i) == y[idx]:\n",
    "#                 training_correct += 1\n",
    "#             training_total += 1\n",
    "        \n",
    "#     for data in testset:\n",
    "#         X,y = data\n",
    "#         output = net(X.view(-1,28*28))\n",
    "#         for idx, i in enumerate(output):\n",
    "#             if torch.argmax(i) == y[idx]:\n",
    "#                 test_correct += 1\n",
    "#             test_total +=1\n",
    "    \n",
    "#     This approach calculates accuracy but avoids the second for loop\n",
    "        for data in trainset:\n",
    "            X,y = data\n",
    "            output = net(X.view(-1,28*28))\n",
    "            training_correct += output.argmax(dim=1).eq(y).sum().item()\n",
    "            training_total += len(y)\n",
    "            \n",
    "        for data in testset:\n",
    "            X,y = data\n",
    "            output = net(X.view(-1,28*28))\n",
    "            test_correct += output.argmax(dim=1).eq(y).sum().item()\n",
    "            test_total += len(y)\n",
    "\n",
    "print(\"Training accuracy: \", round(training_correct/training_total,3))\n",
    "print(\"Test accuracy: \", round(test_correct/test_total,3))\n",
    "            "
   ]
  },
  {
   "cell_type": "code",
   "execution_count": 27,
   "metadata": {},
   "outputs": [
    {
     "data": {
      "image/png": "[encoded data removed]",
      "text/plain": [
       "<Figure size 432x288 with 1 Axes>"
      ]
     },
     "metadata": {
      "needs_background": "light"
     },
     "output_type": "display_data"
    }
   ],
   "source": [
    "# Plot the actual number by passing in the pixel vector\n",
    "import matplotlib.pyplot as plt\n",
    "plt.imshow(X[2].view(28,28))\n",
    "plt.show()"
   ]
  },
  {
   "cell_type": "code",
   "execution_count": 26,
   "metadata": {},
   "outputs": [
    {
     "name": "stdout",
     "output_type": "stream",
     "text": [
      "tensor(9)\n"
     ]
    }
   ],
   "source": [
    "# Show the value to see where issues may occur\n",
    "print(torch.argmax(net(X.view(-1,28*28))[2]))"
   ]
  }
 ],
 "metadata": {
  "kernelspec": {
   "display_name": "Python 3",
   "language": "python",
   "name": "python3"
  },
  "language_info": {
   "codemirror_mode": {
    "name": "ipython",
    "version": 3
   },
   "file_extension": ".py",
   "mimetype": "text/x-python",
   "name": "python",
   "nbconvert_exporter": "python",
   "pygments_lexer": "ipython3",
   "version": "3.7.3"
  }
 },
 "nbformat": 4,
 "nbformat_minor": 4
}
